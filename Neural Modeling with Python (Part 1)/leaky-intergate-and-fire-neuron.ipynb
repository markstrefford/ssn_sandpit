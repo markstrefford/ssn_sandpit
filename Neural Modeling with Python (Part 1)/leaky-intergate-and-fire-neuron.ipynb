{
 "cells": [
  {
   "cell_type": "markdown",
   "metadata": {},
   "source": [
    "### Leaky Integrate and Fire Neuron"
   ]
  },
  {
   "cell_type": "markdown",
   "metadata": {},
   "source": [
    "* Import required modules"
   ]
  },
  {
   "cell_type": "code",
   "execution_count": 2,
   "metadata": {
    "collapsed": true
   },
   "outputs": [],
   "source": [
    "from numpy import *\n",
    "from pylab import *"
   ]
  },
  {
   "cell_type": "markdown",
   "metadata": {},
   "source": [
    "* Setup parameters and state variables"
   ]
  },
  {
   "cell_type": "code",
   "execution_count": 3,
   "metadata": {
    "collapsed": true
   },
   "outputs": [],
   "source": [
    "T        = 50          # total time to sumulate (msec)\n",
    "dt       = 0.125       # simulation time step\n",
    "time     = arange(0, T+dt, dt) # Time array\n",
    "t_rest   = 0           # initial refractory time"
   ]
  },
  {
   "cell_type": "markdown",
   "metadata": {},
   "source": [
    "* LIF properties"
   ]
  },
  {
   "cell_type": "code",
   "execution_count": 4,
   "metadata": {
    "collapsed": true
   },
   "outputs": [],
   "source": [
    "Vm       = zeros(len(time)) # potential (V) trace over time\n",
    "Rm       = 1                # Resistance (kOhm)\n",
    "Cm       = 10               # Capacitance (uF)\n",
    "tau_m    = Rm * Cm          # Time constant\n",
    "tau_ref  = 4                # refractory period (ms)\n",
    "Vth      = 1                # spike threshold\n",
    "V_spike  = 0.5              # spike delta (V)"
   ]
  },
  {
   "cell_type": "markdown",
   "metadata": {},
   "source": [
    "* Stimulus"
   ]
  },
  {
   "cell_type": "code",
   "execution_count": 5,
   "metadata": {
    "collapsed": true
   },
   "outputs": [],
   "source": [
    "I        = 1.5              # input current (A)"
   ]
  },
  {
   "cell_type": "markdown",
   "metadata": {},
   "source": [
    "* Iterate over each time step\n",
    "\n",
    "(Note line 3 uses the forward Euler method for numerical integration applied to the LIF differential equation)"
   ]
  },
  {
   "cell_type": "code",
   "execution_count": 6,
   "metadata": {
    "collapsed": true
   },
   "outputs": [],
   "source": [
    "for i,t in enumerate(time):\n",
    "    if t > t_rest:\n",
    "        Vm[i] = Vm[i-1] + (-Vm[i-1] + I*Rm) / tau_m * dt\n",
    "        if Vm[i] >= Vth:\n",
    "            Vm[i] += V_spike\n",
    "            t_rest = t + tau_ref"
   ]
  },
  {
   "cell_type": "markdown",
   "metadata": {},
   "source": [
    "* Plot the membrane potential trace"
   ]
  },
  {
   "cell_type": "code",
   "execution_count": 7,
   "metadata": {},
   "outputs": [
    {
     "data": {
      "image/png": "[encoded data removed]",
      "text/plain": [
       "<matplotlib.figure.Figure at 0x109be8e80>"
      ]
     },
     "metadata": {},
     "output_type": "display_data"
    }
   ],
   "source": [
    "plot(time,Vm)\n",
    "title('Leaky Integrate and Fire Example')\n",
    "ylabel('Membrane potential (V)')\n",
    "xlabel('Time (msec)')\n",
    "ylim([0,2])\n",
    "show()"
   ]
  },
  {
   "cell_type": "code",
   "execution_count": null,
   "metadata": {
    "collapsed": true
   },
   "outputs": [],
   "source": []
  }
 ],
 "metadata": {
  "kernelspec": {
   "display_name": "Python 3",
   "language": "python",
   "name": "python3"
  },
  "language_info": {
   "codemirror_mode": {
    "name": "ipython",
    "version": 3
   },
   "file_extension": ".py",
   "mimetype": "text/x-python",
   "name": "python",
   "nbconvert_exporter": "python",
   "pygments_lexer": "ipython3",
   "version": "3.6.1"
  }
 },
 "nbformat": 4,
 "nbformat_minor": 2
}
