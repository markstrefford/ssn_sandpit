{
 "cells": [
  {
   "cell_type": "markdown",
   "metadata": {},
   "source": [
    "# Neural Modeling with Python (Part 2):\n",
    "## The Hodgkin-Huxley Model"
   ]
  },
  {
   "cell_type": "code",
   "execution_count": 2,
   "metadata": {
    "collapsed": true
   },
   "outputs": [],
   "source": [
    "from numpy import *\n",
    "from pylab import *"
   ]
  },
  {
   "cell_type": "markdown",
   "metadata": {},
   "source": [
    "* Functions"
   ]
  },
  {
   "cell_type": "markdown",
   "metadata": {},
   "source": [
    "K Channel"
   ]
  },
  {
   "cell_type": "code",
   "execution_count": 5,
   "metadata": {
    "collapsed": true
   },
   "outputs": [],
   "source": [
    "alpha_n = vectorize(lambda v: 0.01*(-v + 10)/(exp((-v+10)/10)-1) \n",
    "                    if v != 10 else 0.1)\n",
    "beta_n  = lambda v: 0.125 * exp(-v/80)\n",
    "n_inf   = lambda v: alpha_n(v) / (alpha_n(v) + beta_n(v)) "
   ]
  },
  {
   "cell_type": "markdown",
   "metadata": {},
   "source": [
    "Na Channel (activating)"
   ]
  },
  {
   "cell_type": "code",
   "execution_count": 6,
   "metadata": {
    "collapsed": true
   },
   "outputs": [],
   "source": [
    "alpha_m = vectorize(lambda v: 0.1*(-v + 25)/(exp ((-v+25)/10) -1)\n",
    "                   if v != 25 else 1)\n",
    "beta_m  = lambda v: 4* exp(-v/18)\n",
    "m_inf   = lambda v: alpha_m(v)/(alpha_m(v) + beta_m(v))"
   ]
  },
  {
   "cell_type": "markdown",
   "metadata": {},
   "source": [
    "Na Channel (inactivating)"
   ]
  },
  {
   "cell_type": "code",
   "execution_count": 7,
   "metadata": {
    "collapsed": true
   },
   "outputs": [],
   "source": [
    "alpha_h = lambda v: 0.07*exp(-v/20)\n",
    "beta_h  = lambda v: 1/(exp((-v + 30) / 10) + 1)\n",
    "h_inf   = lambda v: alpha_h(v)/(alpha_h(v) + beta_h(v))"
   ]
  },
  {
   "cell_type": "markdown",
   "metadata": {},
   "source": [
    "* Channel activity"
   ]
  },
  {
   "cell_type": "code",
   "execution_count": 8,
   "metadata": {},
   "outputs": [
    {
     "data": {
      "text/plain": [
       "<matplotlib.text.Text at 0x1050e6080>"
      ]
     },
     "execution_count": 8,
     "metadata": {},
     "output_type": "execute_result"
    }
   ],
   "source": [
    "v= arange(-50,151)   # mV\n",
    "figure()\n",
    "plot(v, m_inf(v), v, h_inf(v), v, n_inf(v))\n",
    "legend(('m', 'h', 'n'))\n",
    "title('Steady state values of ion channel gating variables')\n",
    "ylabel('Magnitude')\n",
    "xlabel('Voltage (mV)')"
   ]
  },
  {
   "cell_type": "markdown",
   "metadata": {},
   "source": [
    "* setup parameters and state variables"
   ]
  },
  {
   "cell_type": "code",
   "execution_count": 9,
   "metadata": {
    "collapsed": true
   },
   "outputs": [],
   "source": [
    "T    = 55    # ms\n",
    "dt   = 0.025 # ms\n",
    "time = arange(0,T+dt,dt)"
   ]
  },
  {
   "cell_type": "markdown",
   "metadata": {},
   "source": [
    "* HH Parameters"
   ]
  },
  {
   "cell_type": "code",
   "execution_count": 21,
   "metadata": {
    "collapsed": true
   },
   "outputs": [],
   "source": [
    "V_rest  = 0    # mV\n",
    "Cm      = 1    # uF/cm2\n",
    "gbar_Na = 120  # mS/cm2\n",
    "gbar_K  = 36   # mS/cm2\n",
    "gbar_l  = 0.3  # mS/cm2\n",
    "E_Na    = 115  # mV\n",
    "E_K     = -12  # mV\n",
    "E_l     = 10.613 # mV"
   ]
  },
  {
   "cell_type": "code",
   "execution_count": 22,
   "metadata": {
    "collapsed": true
   },
   "outputs": [],
   "source": [
    "Vm      = zeros(len(time))  #mV\n",
    "Vm[0]   = V_rest\n",
    "m       = m_inf(V_rest)\n",
    "h       = h_inf(V_rest)\n",
    "n       = n_inf(V_rest)"
   ]
  },
  {
   "cell_type": "markdown",
   "metadata": {},
   "source": [
    "* Stimulus"
   ]
  },
  {
   "cell_type": "code",
   "execution_count": 23,
   "metadata": {
    "collapsed": true
   },
   "outputs": [],
   "source": [
    "I = zeros(len(time))\n",
    "for i,t in enumerate(time):\n",
    "    if 5 <= t <= 30: I[i] = 10  # uA/cm2"
   ]
  },
  {
   "cell_type": "markdown",
   "metadata": {},
   "source": [
    "* Simulate model"
   ]
  },
  {
   "cell_type": "code",
   "execution_count": 24,
   "metadata": {},
   "outputs": [
    {
     "name": "stderr",
     "output_type": "stream",
     "text": [
      "/Users/markstrefford/anaconda/lib/python3.6/site-packages/ipykernel_launcher.py:2: RuntimeWarning: overflow encountered in exp\n",
      "  \n",
      "/Users/markstrefford/anaconda/lib/python3.6/site-packages/ipykernel_launcher.py:3: RuntimeWarning: overflow encountered in exp\n",
      "  This is separate from the ipykernel package so we can avoid doing imports until\n",
      "/Users/markstrefford/anaconda/lib/python3.6/site-packages/ipykernel_launcher.py:1: RuntimeWarning: overflow encountered in exp\n",
      "  \"\"\"Entry point for launching an IPython kernel.\n",
      "/Users/markstrefford/anaconda/lib/python3.6/site-packages/ipykernel_launcher.py:6: RuntimeWarning: invalid value encountered in multiply\n",
      "  \n",
      "/Users/markstrefford/anaconda/lib/python3.6/site-packages/ipykernel_launcher.py:7: RuntimeWarning: invalid value encountered in double_scalars\n",
      "  import sys\n",
      "/Users/markstrefford/anaconda/lib/python3.6/site-packages/ipykernel_launcher.py:8: RuntimeWarning: invalid value encountered in multiply\n",
      "  \n"
     ]
    }
   ],
   "source": [
    "for i in range(1, len(time)):\n",
    "    g_Na = gbar_Na*(m**3)*h\n",
    "    g_K  = gbar_K*(n**4)\n",
    "    g_l  = gbar_l\n",
    "    \n",
    "    m += (alpha_m(Vm[i-1])*(1 - m) - beta_m(Vm[i-1])*m) * dt\n",
    "    h += (alpha_h(Vm[i-1])*(1 - h) - beta_h(Vm[i-1])*h) * dt\n",
    "    n += (alpha_n(Vm[i-1])*(1 - n) - beta_n(Vm[i-1])*n) * dt\n",
    "     \n",
    "    Vm[i] = Vm[i-1] + (I[i-1] - g_Na*(Vm[i-1] - E_Na) - g_K*(Vm[i-1] - E_K) \n",
    "                       - g_l*(Vm[i-1] - E_l)) / Cm * dt"
   ]
  },
  {
   "cell_type": "markdown",
   "metadata": {},
   "source": [
    "* Plot membrane potential trace"
   ]
  },
  {
   "cell_type": "code",
   "execution_count": 19,
   "metadata": {},
   "outputs": [
    {
     "data": {
      "text/plain": [
       "<matplotlib.text.Text at 0x1051c8f60>"
      ]
     },
     "execution_count": 19,
     "metadata": {},
     "output_type": "execute_result"
    }
   ],
   "source": [
    "figure()\n",
    "plot(time, Vm, time, -30+I)\n",
    "title('Hodkins-Huxley Example')\n",
    "ylabel('Membrane potential (mV)')\n",
    "xlabel('Time (msec)')"
   ]
  },
  {
   "cell_type": "code",
   "execution_count": 20,
   "metadata": {},
   "outputs": [
    {
     "data": {
      "image/png": "[encoded data removed]",
      "text/plain": [
       "<matplotlib.figure.Figure at 0x105042cc0>"
      ]
     },
     "metadata": {},
     "output_type": "display_data"
    },
    {
     "data": {
      "image/png": "[encoded data removed]",
      "text/plain": [
       "<matplotlib.figure.Figure at 0x1051c7a90>"
      ]
     },
     "metadata": {},
     "output_type": "display_data"
    }
   ],
   "source": [
    "show()"
   ]
  },
  {
   "cell_type": "code",
   "execution_count": null,
   "metadata": {
    "collapsed": true
   },
   "outputs": [],
   "source": []
  }
 ],
 "metadata": {
  "kernelspec": {
   "display_name": "Python 3",
   "language": "python",
   "name": "python3"
  },
  "language_info": {
   "codemirror_mode": {
    "name": "ipython",
    "version": 3
   },
   "file_extension": ".py",
   "mimetype": "text/x-python",
   "name": "python",
   "nbconvert_exporter": "python",
   "pygments_lexer": "ipython3",
   "version": "3.6.1"
  }
 },
 "nbformat": 4,
 "nbformat_minor": 2
}
